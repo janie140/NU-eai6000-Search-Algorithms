{
 "cells": [
  {
   "cell_type": "code",
   "execution_count": 33,
   "id": "9c91d7d5",
   "metadata": {},
   "outputs": [],
   "source": [
    "def binary_search(low, high):\n",
    "    if low < high:\n",
    "        mid = (low+high)//2\n",
    "        question = f'Is the number greater than {mid}? (y/n)'\n",
    "        #or question = 'Is the number greater than ' + str(mid) + '?'\n",
    "        response = input(question)\n",
    "    \n",
    "        if response == 'y':\n",
    "            low = mid+1\n",
    "            return binary_search(low, high)\n",
    "        elif response == 'n':\n",
    "            high = mid\n",
    "            return binary_search(low, high)\n",
    "        else:\n",
    "            print(\"Invalid input! Please enter 'y' or 'n'.\")\n",
    "            return binary_search(low, high)\n",
    "        \n",
    "    else:\n",
    "        return low"
   ]
  },
  {
   "cell_type": "code",
   "execution_count": 34,
   "id": "1388379a",
   "metadata": {},
   "outputs": [
    {
     "name": "stdout",
     "output_type": "stream",
     "text": [
      "Is the number greater than 100? (y/n)n\n",
      "Is the number greater than 50? (y/n)y\n",
      "Is the number greater than 75? (y/n)y\n",
      "Is the number greater than 88? (y/n)n\n",
      "Is the number greater than 82? (y/n)n\n",
      "Is the number greater than 79? (y/n)n\n",
      "Is the number greater than 77? (y/n)n\n",
      "Is the number greater than 76? (y/n)y\n"
     ]
    },
    {
     "data": {
      "text/plain": [
       "77"
      ]
     },
     "execution_count": 34,
     "metadata": {},
     "output_type": "execute_result"
    }
   ],
   "source": [
    "binary_search(1, 200)"
   ]
  },
  {
   "cell_type": "code",
   "execution_count": 37,
   "id": "f531896c",
   "metadata": {},
   "outputs": [
    {
     "name": "stdout",
     "output_type": "stream",
     "text": [
      "Is the number greater than 39500? (y/n)n\n",
      "Is the number greater than 19750? (y/n)n\n",
      "Is the number greater than 9875? (y/n)n\n",
      "Is the number greater than 4938? (y/n)nn\n",
      "Invalid input! Please enter 'y' or 'n'.\n",
      "Is the number greater than 4938? (y/n)nn\n",
      "Invalid input! Please enter 'y' or 'n'.\n",
      "Is the number greater than 4938? (y/n)n\n",
      "Is the number greater than 2469? (y/n)n\n",
      "Is the number greater than 1235? (y/n)n\n",
      "Is the number greater than 618? (y/n)n\n",
      "Is the number greater than 309? (y/n)nn\n",
      "Invalid input! Please enter 'y' or 'n'.\n",
      "Is the number greater than 309? (y/n)n\n",
      "Is the number greater than 155? (y/n)n\n",
      "Is the number greater than 78? (y/n)y\n",
      "Is the number greater than 117? (y/n)y\n",
      "Is the number greater than 136? (y/n)n\n",
      "Is the number greater than 127? (y/n)n\n",
      "Is the number greater than 122? (y/n)n\n",
      "Is the number greater than 120? (y/n)y\n",
      "Is the number greater than 121? (y/n)y\n"
     ]
    },
    {
     "data": {
      "text/plain": [
       "122"
      ]
     },
     "execution_count": 37,
     "metadata": {},
     "output_type": "execute_result"
    }
   ],
   "source": [
    "binary_search(1, 79000)"
   ]
  },
  {
   "cell_type": "code",
   "execution_count": 9,
   "id": "254538be",
   "metadata": {},
   "outputs": [
    {
     "data": {
      "text/html": [
       "<div>\n",
       "<style scoped>\n",
       "    .dataframe tbody tr th:only-of-type {\n",
       "        vertical-align: middle;\n",
       "    }\n",
       "\n",
       "    .dataframe tbody tr th {\n",
       "        vertical-align: top;\n",
       "    }\n",
       "\n",
       "    .dataframe thead th {\n",
       "        text-align: right;\n",
       "    }\n",
       "</style>\n",
       "<table border=\"1\" class=\"dataframe\">\n",
       "  <thead>\n",
       "    <tr style=\"text-align: right;\">\n",
       "      <th></th>\n",
       "      <th>Label</th>\n",
       "      <th>Animal</th>\n",
       "      <th>f1</th>\n",
       "      <th>f2</th>\n",
       "    </tr>\n",
       "  </thead>\n",
       "  <tbody>\n",
       "    <tr>\n",
       "      <th>0</th>\n",
       "      <td>M</td>\n",
       "      <td>Whale</td>\n",
       "      <td>1</td>\n",
       "      <td>0</td>\n",
       "    </tr>\n",
       "    <tr>\n",
       "      <th>1</th>\n",
       "      <td>M</td>\n",
       "      <td>Human</td>\n",
       "      <td>1</td>\n",
       "      <td>1</td>\n",
       "    </tr>\n",
       "    <tr>\n",
       "      <th>2</th>\n",
       "      <td>R</td>\n",
       "      <td>Crocodile</td>\n",
       "      <td>1</td>\n",
       "      <td>1</td>\n",
       "    </tr>\n",
       "    <tr>\n",
       "      <th>3</th>\n",
       "      <td>R</td>\n",
       "      <td>Lizard 1</td>\n",
       "      <td>1</td>\n",
       "      <td>1</td>\n",
       "    </tr>\n",
       "    <tr>\n",
       "      <th>4</th>\n",
       "      <td>M</td>\n",
       "      <td>Platypus</td>\n",
       "      <td>0</td>\n",
       "      <td>1</td>\n",
       "    </tr>\n",
       "    <tr>\n",
       "      <th>5</th>\n",
       "      <td>M</td>\n",
       "      <td>Rat</td>\n",
       "      <td>1</td>\n",
       "      <td>1</td>\n",
       "    </tr>\n",
       "    <tr>\n",
       "      <th>6</th>\n",
       "      <td>R</td>\n",
       "      <td>Lizard 2</td>\n",
       "      <td>0</td>\n",
       "      <td>1</td>\n",
       "    </tr>\n",
       "    <tr>\n",
       "      <th>7</th>\n",
       "      <td>R</td>\n",
       "      <td>Lizard 3</td>\n",
       "      <td>1</td>\n",
       "      <td>0</td>\n",
       "    </tr>\n",
       "    <tr>\n",
       "      <th>8</th>\n",
       "      <td>R</td>\n",
       "      <td>Snakes</td>\n",
       "      <td>0</td>\n",
       "      <td>0</td>\n",
       "    </tr>\n",
       "  </tbody>\n",
       "</table>\n",
       "</div>"
      ],
      "text/plain": [
       "  Label     Animal  f1  f2\n",
       "0     M      Whale   1   0\n",
       "1     M      Human   1   1\n",
       "2     R  Crocodile   1   1\n",
       "3     R   Lizard 1   1   1\n",
       "4     M   Platypus   0   1\n",
       "5     M        Rat   1   1\n",
       "6     R   Lizard 2   0   1\n",
       "7     R   Lizard 3   1   0\n",
       "8     R     Snakes   0   0"
      ]
     },
     "execution_count": 9,
     "metadata": {},
     "output_type": "execute_result"
    }
   ],
   "source": [
    "import pandas as pd\n",
    "from io import StringIO\n",
    "\n",
    "# Define the data as a multiline string\n",
    "data = \"\"\"Label,Animal,f1,f2\n",
    "M,Whale,1,0\n",
    "M,Human,1,1\n",
    "R,Crocodile,1,1\n",
    "R,Lizard 1,1,1\n",
    "M,Platypus,0,1\n",
    "M,Rat,1,1\n",
    "R,Lizard 2,0,1\n",
    "R,Lizard 3,1,0\n",
    "R,Snakes,0,0\"\"\"\n",
    "\n",
    "# Use StringIO to simulate a file object from the string\n",
    "data_io = StringIO(data)\n",
    "\n",
    "# Create the DataFrame\n",
    "df = pd.read_csv(data_io)\n",
    "\n",
    "df"
   ]
  },
  {
   "cell_type": "code",
   "execution_count": 10,
   "id": "8acfa705",
   "metadata": {},
   "outputs": [
    {
     "data": {
      "text/plain": [
       "4"
      ]
     },
     "execution_count": 10,
     "metadata": {},
     "output_type": "execute_result"
    }
   ],
   "source": [
    "len(df[df['Label'] == 'M'])"
   ]
  },
  {
   "cell_type": "code",
   "execution_count": 12,
   "id": "4512ee49",
   "metadata": {},
   "outputs": [
    {
     "data": {
      "text/plain": [
       "3"
      ]
     },
     "execution_count": 12,
     "metadata": {},
     "output_type": "execute_result"
    }
   ],
   "source": [
    "len(df[(df['Label'] == 'M') & (df['f1'] == 1)])"
   ]
  },
  {
   "cell_type": "code",
   "execution_count": 19,
   "id": "a1d79888",
   "metadata": {},
   "outputs": [],
   "source": [
    "def prob_m(f1):\n",
    "    f1_df = df[df['f1'] == f1]\n",
    "    \n",
    "    count_M = f1_df[f1_df['Label'] == 'M'].shape[0]\n",
    "    \n",
    "    total_count = f1_df.shape[0]\n",
    "    \n",
    "    prob = count_M / total_count if total_count != 0 else 0\n",
    "    \n",
    "    return prob"
   ]
  },
  {
   "cell_type": "code",
   "execution_count": 22,
   "id": "fafb28c2",
   "metadata": {},
   "outputs": [
    {
     "data": {
      "text/plain": [
       "0.3333333333333333"
      ]
     },
     "execution_count": 22,
     "metadata": {},
     "output_type": "execute_result"
    }
   ],
   "source": [
    "prob_m(0)"
   ]
  },
  {
   "cell_type": "code",
   "execution_count": null,
   "id": "702fdad5",
   "metadata": {},
   "outputs": [],
   "source": [
    "def prob_m(f1):\n",
    "    \n",
    "    h_df = df[df['Label'] == 'M']\n",
    "    neg_h_df = df[df['Label'] == 'R']\n",
    "    \n",
    "    f1_h_df = h_df[h_df['f1'] == f1]\n",
    "    f1_neg_h_df = neg_h_df[neg_h_df['f1'] == f1]\n",
    "    \n",
    "    p_h = len(h_df)/ len(df)\n",
    "    p_e_h = len(m_df[m_df['f1'] == f1])/ len(m_df)\n",
    "    p_neg_h = 1 - p_h\n",
    "    p_e_neg_h = \n",
    "    \n",
    "    \n",
    "    count_M = f1_df[f1_df['Label'] == 'M'].shape[0]\n",
    "    \n",
    "    total_count = f1_df.shape[0]\n",
    "    \n",
    "    prob = count_M / total_count if total_count != 0 else 0\n",
    "    \n",
    "    return prob"
   ]
  }
 ],
 "metadata": {
  "kernelspec": {
   "display_name": "Python 3 (ipykernel)",
   "language": "python",
   "name": "python3"
  },
  "language_info": {
   "codemirror_mode": {
    "name": "ipython",
    "version": 3
   },
   "file_extension": ".py",
   "mimetype": "text/x-python",
   "name": "python",
   "nbconvert_exporter": "python",
   "pygments_lexer": "ipython3",
   "version": "3.11.4"
  }
 },
 "nbformat": 4,
 "nbformat_minor": 5
}
